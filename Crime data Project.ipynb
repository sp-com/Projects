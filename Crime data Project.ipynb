{
 "cells": [
  {
   "cell_type": "code",
   "execution_count": 1,
   "id": "9b45d1c8-174e-4ac1-8148-8dbde408cacb",
   "metadata": {},
   "outputs": [],
   "source": [
    "import numpy as np\n",
    "import pandas as pd\n",
    "import matplotlib.pyplot as plt\n",
    "import seaborn as sns"
   ]
  },
  {
   "cell_type": "code",
   "execution_count": 2,
   "id": "61145f71-434d-4ec4-a1e1-7e1b430bb656",
   "metadata": {},
   "outputs": [
    {
     "name": "stderr",
     "output_type": "stream",
     "text": [
      "C:\\Users\\sergi\\AppData\\Local\\Temp\\ipykernel_20356\\531696736.py:1: DtypeWarning: Columns (7,20,27) have mixed types. Specify dtype option on import or set low_memory=False.\n",
      "  df = pd.read_csv(r\"C:\\Users\\sergi\\Desktop\\Sergio - Data Analysis\\___M___L___\\csv\\Adult_Arrests.csv\")\n"
     ]
    }
   ],
   "source": [
    "df = pd.read_csv(r\"C:\\Users\\sergi\\Desktop\\Sergio - Data Analysis\\___M___L___\\csv\\Adult_Arrests.csv\")"
   ]
  },
  {
   "cell_type": "code",
   "execution_count": 3,
   "id": "1b96be47-aaaf-4901-936d-12978fc83b3b",
   "metadata": {},
   "outputs": [
    {
     "data": {
      "text/html": [
       "<div>\n",
       "<style scoped>\n",
       "    .dataframe tbody tr th:only-of-type {\n",
       "        vertical-align: middle;\n",
       "    }\n",
       "\n",
       "    .dataframe tbody tr th {\n",
       "        vertical-align: top;\n",
       "    }\n",
       "\n",
       "    .dataframe thead th {\n",
       "        text-align: right;\n",
       "    }\n",
       "</style>\n",
       "<table border=\"1\" class=\"dataframe\">\n",
       "  <thead>\n",
       "    <tr style=\"text-align: right;\">\n",
       "      <th></th>\n",
       "      <th>TYPE</th>\n",
       "      <th>YEAR</th>\n",
       "      <th>DATE_</th>\n",
       "      <th>HOUR</th>\n",
       "      <th>CCN</th>\n",
       "      <th>ARREST_NUMBER</th>\n",
       "      <th>AGE</th>\n",
       "      <th>DEFENDANT_PSA</th>\n",
       "      <th>DEFENDANT_DISTRICT</th>\n",
       "      <th>RACE</th>\n",
       "      <th>...</th>\n",
       "      <th>OFFENSE_DISTRICT</th>\n",
       "      <th>ARREST_LATITUDE</th>\n",
       "      <th>ARREST_LONGITUDE</th>\n",
       "      <th>OFFENSE_LATITUDE</th>\n",
       "      <th>OFFENSE_LONGITUDE</th>\n",
       "      <th>GIS_ID</th>\n",
       "      <th>CREATED</th>\n",
       "      <th>EDITED</th>\n",
       "      <th>GLOBALID</th>\n",
       "      <th>OBJECTID</th>\n",
       "    </tr>\n",
       "  </thead>\n",
       "  <tbody>\n",
       "    <tr>\n",
       "      <th>0</th>\n",
       "      <td>Adult Arrest</td>\n",
       "      <td>2013</td>\n",
       "      <td>2013/11/14 05:00:00+00</td>\n",
       "      <td>6</td>\n",
       "      <td>45bb932cb42f1bba872a8dfcfb2428a10d6fe0598a63f2...</td>\n",
       "      <td>1057043c3187ebc5c85920edbb441300e1446d3764e70f...</td>\n",
       "      <td>37</td>\n",
       "      <td>Out of State</td>\n",
       "      <td>Out of State</td>\n",
       "      <td>WHITE</td>\n",
       "      <td>...</td>\n",
       "      <td>NaN</td>\n",
       "      <td>NaN</td>\n",
       "      <td>NaN</td>\n",
       "      <td>NaN</td>\n",
       "      <td>NaN</td>\n",
       "      <td>ADULT_ARRESTS_1</td>\n",
       "      <td>NaN</td>\n",
       "      <td>2025/03/04 02:03:21+00</td>\n",
       "      <td>{80CA3650-32C9-42C6-8412-9250D0E433BF}</td>\n",
       "      <td>1</td>\n",
       "    </tr>\n",
       "    <tr>\n",
       "      <th>1</th>\n",
       "      <td>Adult Arrest</td>\n",
       "      <td>2013</td>\n",
       "      <td>2013/11/20 05:00:00+00</td>\n",
       "      <td>15</td>\n",
       "      <td>d558ea651a7b32e88571a453ccdf39376b2ec9dfb11f3c...</td>\n",
       "      <td>ad3f22534b1e2c409d66328bb4ac3904e9bacc768c6091...</td>\n",
       "      <td>39</td>\n",
       "      <td>602</td>\n",
       "      <td>6D</td>\n",
       "      <td>BLACK</td>\n",
       "      <td>...</td>\n",
       "      <td>6D</td>\n",
       "      <td>NaN</td>\n",
       "      <td>NaN</td>\n",
       "      <td>NaN</td>\n",
       "      <td>NaN</td>\n",
       "      <td>ADULT_ARRESTS_2</td>\n",
       "      <td>NaN</td>\n",
       "      <td>2025/03/04 02:03:21+00</td>\n",
       "      <td>{F1B2E42E-38B5-49D6-8A60-BF8CF0690A12}</td>\n",
       "      <td>2</td>\n",
       "    </tr>\n",
       "    <tr>\n",
       "      <th>2</th>\n",
       "      <td>Adult Arrest</td>\n",
       "      <td>2013</td>\n",
       "      <td>2013/12/03 05:00:00+00</td>\n",
       "      <td>0</td>\n",
       "      <td>85451f87475b042563ddebc20b89b7258f07bca9b55b77...</td>\n",
       "      <td>a723e9f1d0b44a6e0cef81994b8e7d3d3da55270e6f871...</td>\n",
       "      <td>40</td>\n",
       "      <td>Out of State</td>\n",
       "      <td>Out of State</td>\n",
       "      <td>BLACK</td>\n",
       "      <td>...</td>\n",
       "      <td>NaN</td>\n",
       "      <td>NaN</td>\n",
       "      <td>NaN</td>\n",
       "      <td>NaN</td>\n",
       "      <td>NaN</td>\n",
       "      <td>ADULT_ARRESTS_3</td>\n",
       "      <td>NaN</td>\n",
       "      <td>2025/03/04 02:03:21+00</td>\n",
       "      <td>{7F8BA37F-51F5-437F-A8F4-4B755385797B}</td>\n",
       "      <td>3</td>\n",
       "    </tr>\n",
       "    <tr>\n",
       "      <th>3</th>\n",
       "      <td>Adult Arrest</td>\n",
       "      <td>2013</td>\n",
       "      <td>2013/12/05 05:00:00+00</td>\n",
       "      <td>21</td>\n",
       "      <td>3498c726acd19b8fc48c50a86c4e21e5823c41722cb779...</td>\n",
       "      <td>1a94d5a92f8538d3252aa65690ab70fac1a67646eb22ee...</td>\n",
       "      <td>65</td>\n",
       "      <td>502</td>\n",
       "      <td>5D</td>\n",
       "      <td>BLACK</td>\n",
       "      <td>...</td>\n",
       "      <td>NaN</td>\n",
       "      <td>NaN</td>\n",
       "      <td>NaN</td>\n",
       "      <td>NaN</td>\n",
       "      <td>NaN</td>\n",
       "      <td>ADULT_ARRESTS_4</td>\n",
       "      <td>NaN</td>\n",
       "      <td>2025/03/04 02:03:21+00</td>\n",
       "      <td>{70B94138-C9F4-4CFF-9A72-12B071F3A78C}</td>\n",
       "      <td>4</td>\n",
       "    </tr>\n",
       "    <tr>\n",
       "      <th>4</th>\n",
       "      <td>Adult Arrest</td>\n",
       "      <td>2013</td>\n",
       "      <td>2013/12/09 05:00:00+00</td>\n",
       "      <td>23</td>\n",
       "      <td>88e342ab716f545b67c467914d6999d514ec6ea34d5c2e...</td>\n",
       "      <td>5a0e432aaa38e011a7b8aa29de617d4e635acab29b3db5...</td>\n",
       "      <td>31</td>\n",
       "      <td>702</td>\n",
       "      <td>7D</td>\n",
       "      <td>BLACK</td>\n",
       "      <td>...</td>\n",
       "      <td>NaN</td>\n",
       "      <td>NaN</td>\n",
       "      <td>NaN</td>\n",
       "      <td>NaN</td>\n",
       "      <td>NaN</td>\n",
       "      <td>ADULT_ARRESTS_5</td>\n",
       "      <td>NaN</td>\n",
       "      <td>2025/03/04 02:03:21+00</td>\n",
       "      <td>{2DCB5E7E-311F-48B8-A36B-BF1D6C2890F5}</td>\n",
       "      <td>5</td>\n",
       "    </tr>\n",
       "  </tbody>\n",
       "</table>\n",
       "<p>5 rows × 31 columns</p>\n",
       "</div>"
      ],
      "text/plain": [
       "           TYPE  YEAR                   DATE_  HOUR  \\\n",
       "0  Adult Arrest  2013  2013/11/14 05:00:00+00     6   \n",
       "1  Adult Arrest  2013  2013/11/20 05:00:00+00    15   \n",
       "2  Adult Arrest  2013  2013/12/03 05:00:00+00     0   \n",
       "3  Adult Arrest  2013  2013/12/05 05:00:00+00    21   \n",
       "4  Adult Arrest  2013  2013/12/09 05:00:00+00    23   \n",
       "\n",
       "                                                 CCN  \\\n",
       "0  45bb932cb42f1bba872a8dfcfb2428a10d6fe0598a63f2...   \n",
       "1  d558ea651a7b32e88571a453ccdf39376b2ec9dfb11f3c...   \n",
       "2  85451f87475b042563ddebc20b89b7258f07bca9b55b77...   \n",
       "3  3498c726acd19b8fc48c50a86c4e21e5823c41722cb779...   \n",
       "4  88e342ab716f545b67c467914d6999d514ec6ea34d5c2e...   \n",
       "\n",
       "                                       ARREST_NUMBER  AGE DEFENDANT_PSA  \\\n",
       "0  1057043c3187ebc5c85920edbb441300e1446d3764e70f...   37  Out of State   \n",
       "1  ad3f22534b1e2c409d66328bb4ac3904e9bacc768c6091...   39           602   \n",
       "2  a723e9f1d0b44a6e0cef81994b8e7d3d3da55270e6f871...   40  Out of State   \n",
       "3  1a94d5a92f8538d3252aa65690ab70fac1a67646eb22ee...   65           502   \n",
       "4  5a0e432aaa38e011a7b8aa29de617d4e635acab29b3db5...   31           702   \n",
       "\n",
       "  DEFENDANT_DISTRICT   RACE  ... OFFENSE_DISTRICT ARREST_LATITUDE  \\\n",
       "0       Out of State  WHITE  ...              NaN             NaN   \n",
       "1                 6D  BLACK  ...               6D             NaN   \n",
       "2       Out of State  BLACK  ...              NaN             NaN   \n",
       "3                 5D  BLACK  ...              NaN             NaN   \n",
       "4                 7D  BLACK  ...              NaN             NaN   \n",
       "\n",
       "  ARREST_LONGITUDE OFFENSE_LATITUDE  OFFENSE_LONGITUDE           GIS_ID  \\\n",
       "0              NaN              NaN                NaN  ADULT_ARRESTS_1   \n",
       "1              NaN              NaN                NaN  ADULT_ARRESTS_2   \n",
       "2              NaN              NaN                NaN  ADULT_ARRESTS_3   \n",
       "3              NaN              NaN                NaN  ADULT_ARRESTS_4   \n",
       "4              NaN              NaN                NaN  ADULT_ARRESTS_5   \n",
       "\n",
       "   CREATED                  EDITED                                GLOBALID  \\\n",
       "0      NaN  2025/03/04 02:03:21+00  {80CA3650-32C9-42C6-8412-9250D0E433BF}   \n",
       "1      NaN  2025/03/04 02:03:21+00  {F1B2E42E-38B5-49D6-8A60-BF8CF0690A12}   \n",
       "2      NaN  2025/03/04 02:03:21+00  {7F8BA37F-51F5-437F-A8F4-4B755385797B}   \n",
       "3      NaN  2025/03/04 02:03:21+00  {70B94138-C9F4-4CFF-9A72-12B071F3A78C}   \n",
       "4      NaN  2025/03/04 02:03:21+00  {2DCB5E7E-311F-48B8-A36B-BF1D6C2890F5}   \n",
       "\n",
       "   OBJECTID  \n",
       "0         1  \n",
       "1         2  \n",
       "2         3  \n",
       "3         4  \n",
       "4         5  \n",
       "\n",
       "[5 rows x 31 columns]"
      ]
     },
     "execution_count": 3,
     "metadata": {},
     "output_type": "execute_result"
    }
   ],
   "source": [
    "df.head()"
   ]
  },
  {
   "cell_type": "code",
   "execution_count": 4,
   "id": "b8f3f284-b981-4449-bec5-619797e6e95b",
   "metadata": {},
   "outputs": [
    {
     "data": {
      "text/plain": [
       "Index(['TYPE', 'YEAR', 'DATE_', 'HOUR', 'CCN', 'ARREST_NUMBER', 'AGE',\n",
       "       'DEFENDANT_PSA', 'DEFENDANT_DISTRICT', 'RACE', 'ETHNICITY', 'SEX',\n",
       "       'CATEGORY', 'DESCRIPTION', 'ARREST_PSA', 'ARREST_DISTRICT',\n",
       "       'ARREST_BLOCKX', 'ARREST_BLOCKY', 'OFFENSE_BLOCKY', 'OFFENSE_BLOCKX',\n",
       "       'OFFENSE_PSA', 'OFFENSE_DISTRICT', 'ARREST_LATITUDE',\n",
       "       'ARREST_LONGITUDE', 'OFFENSE_LATITUDE', 'OFFENSE_LONGITUDE', 'GIS_ID',\n",
       "       'CREATED', 'EDITED', 'GLOBALID', 'OBJECTID'],\n",
       "      dtype='object')"
      ]
     },
     "execution_count": 4,
     "metadata": {},
     "output_type": "execute_result"
    }
   ],
   "source": [
    "df.columns"
   ]
  },
  {
   "cell_type": "markdown",
   "id": "b0c42557-ee78-4cb4-afe1-dc0a3c124a30",
   "metadata": {},
   "source": [
    "### CHECKING FOR MISSING VALUES AND REMOVING THEM"
   ]
  },
  {
   "cell_type": "code",
   "execution_count": 6,
   "id": "cc3496da-ffb9-41f3-9cc8-6bd754150836",
   "metadata": {},
   "outputs": [
    {
     "data": {
      "text/plain": [
       "TYPE                       0\n",
       "YEAR                       0\n",
       "DATE_                      0\n",
       "HOUR                       0\n",
       "CCN                       43\n",
       "ARREST_NUMBER              0\n",
       "AGE                        0\n",
       "DEFENDANT_PSA          48072\n",
       "DEFENDANT_DISTRICT     47789\n",
       "RACE                       0\n",
       "ETHNICITY              45899\n",
       "SEX                        0\n",
       "CATEGORY                  12\n",
       "DESCRIPTION               41\n",
       "ARREST_PSA              2343\n",
       "ARREST_DISTRICT         2255\n",
       "ARREST_BLOCKX           2834\n",
       "ARREST_BLOCKY           2834\n",
       "OFFENSE_BLOCKY          1097\n",
       "OFFENSE_BLOCKX          1097\n",
       "OFFENSE_PSA              654\n",
       "OFFENSE_DISTRICT         538\n",
       "ARREST_LATITUDE         3017\n",
       "ARREST_LONGITUDE        3017\n",
       "OFFENSE_LATITUDE         857\n",
       "OFFENSE_LONGITUDE        857\n",
       "GIS_ID                     0\n",
       "CREATED               210740\n",
       "EDITED                     0\n",
       "GLOBALID                   0\n",
       "OBJECTID                   0\n",
       "dtype: int64"
      ]
     },
     "execution_count": 6,
     "metadata": {},
     "output_type": "execute_result"
    }
   ],
   "source": [
    "df.isnull().sum()"
   ]
  },
  {
   "cell_type": "code",
   "execution_count": 7,
   "id": "d8372657-9aff-40d6-840d-e4938199eaf7",
   "metadata": {},
   "outputs": [
    {
     "data": {
      "text/plain": [
       "(54477, 31)"
      ]
     },
     "execution_count": 7,
     "metadata": {},
     "output_type": "execute_result"
    }
   ],
   "source": [
    "df = df.dropna()\n",
    "df.shape"
   ]
  },
  {
   "cell_type": "markdown",
   "id": "23d82d55-60bd-49a0-8958-3c2d26009bf8",
   "metadata": {},
   "source": [
    "ARREST PATTERN\n",
    "\n",
    "Categorical classification"
   ]
  },
  {
   "cell_type": "code",
   "execution_count": 9,
   "id": "774ade51-6ae5-4ca4-afa2-5926cad142ad",
   "metadata": {},
   "outputs": [
    {
     "data": {
      "text/html": [
       "<div>\n",
       "<style scoped>\n",
       "    .dataframe tbody tr th:only-of-type {\n",
       "        vertical-align: middle;\n",
       "    }\n",
       "\n",
       "    .dataframe tbody tr th {\n",
       "        vertical-align: top;\n",
       "    }\n",
       "\n",
       "    .dataframe thead th {\n",
       "        text-align: right;\n",
       "    }\n",
       "</style>\n",
       "<table border=\"1\" class=\"dataframe\">\n",
       "  <thead>\n",
       "    <tr style=\"text-align: right;\">\n",
       "      <th></th>\n",
       "      <th>SEX</th>\n",
       "      <th>Numbers</th>\n",
       "    </tr>\n",
       "  </thead>\n",
       "  <tbody>\n",
       "    <tr>\n",
       "      <th>0</th>\n",
       "      <td>FEMALE</td>\n",
       "      <td>13359</td>\n",
       "    </tr>\n",
       "    <tr>\n",
       "      <th>1</th>\n",
       "      <td>MALE</td>\n",
       "      <td>41107</td>\n",
       "    </tr>\n",
       "    <tr>\n",
       "      <th>2</th>\n",
       "      <td>UNKNOWN</td>\n",
       "      <td>11</td>\n",
       "    </tr>\n",
       "  </tbody>\n",
       "</table>\n",
       "</div>"
      ],
      "text/plain": [
       "       SEX  Numbers\n",
       "0   FEMALE    13359\n",
       "1     MALE    41107\n",
       "2  UNKNOWN       11"
      ]
     },
     "execution_count": 9,
     "metadata": {},
     "output_type": "execute_result"
    }
   ],
   "source": [
    "df_sex = df.groupby('SEX').size().reset_index(name = 'Numbers') #Classifying crime numbers by sex\n",
    "df_sex"
   ]
  },
  {
   "cell_type": "code",
   "execution_count": 10,
   "id": "c66b664b-77ff-421b-bcb1-ff308600ffeb",
   "metadata": {},
   "outputs": [
    {
     "data": {
      "image/png": "[encoded data removed]",
      "text/plain": [
       "<Figure size 500x800 with 1 Axes>"
      ]
     },
     "metadata": {},
     "output_type": "display_data"
    }
   ],
   "source": [
    "plt.figure(figsize = (5,8)) ##Plotting crime numbers by sex\n",
    "plt.bar(df_sex[\"SEX\"],df_sex[\"Numbers\"])\n",
    "plt.ylabel(\"Numbers\")\n",
    "plt.xlabel(\"SEX\")\n",
    "plt.title(\"Crime numbers by sex\")\n",
    "plt.grid(which = 'both', linestyle = ':')"
   ]
  },
  {
   "cell_type": "markdown",
   "id": "5c481931-1969-476e-bfaf-253e64146d48",
   "metadata": {},
   "source": [
    "CONTINUOUS DATA CLASSIFICATION"
   ]
  },
  {
   "cell_type": "code",
   "execution_count": 12,
   "id": "482d0348-24bb-4605-8a58-f130ec925d5d",
   "metadata": {},
   "outputs": [
    {
     "data": {
      "text/html": [
       "<div>\n",
       "<style scoped>\n",
       "    .dataframe tbody tr th:only-of-type {\n",
       "        vertical-align: middle;\n",
       "    }\n",
       "\n",
       "    .dataframe tbody tr th {\n",
       "        vertical-align: top;\n",
       "    }\n",
       "\n",
       "    .dataframe thead th {\n",
       "        text-align: right;\n",
       "    }\n",
       "</style>\n",
       "<table border=\"1\" class=\"dataframe\">\n",
       "  <thead>\n",
       "    <tr style=\"text-align: right;\">\n",
       "      <th></th>\n",
       "      <th>AGE</th>\n",
       "      <th>Numbers</th>\n",
       "    </tr>\n",
       "  </thead>\n",
       "  <tbody>\n",
       "    <tr>\n",
       "      <th>0</th>\n",
       "      <td>18</td>\n",
       "      <td>1222</td>\n",
       "    </tr>\n",
       "    <tr>\n",
       "      <th>1</th>\n",
       "      <td>19</td>\n",
       "      <td>1362</td>\n",
       "    </tr>\n",
       "    <tr>\n",
       "      <th>2</th>\n",
       "      <td>20</td>\n",
       "      <td>1510</td>\n",
       "    </tr>\n",
       "    <tr>\n",
       "      <th>3</th>\n",
       "      <td>21</td>\n",
       "      <td>1554</td>\n",
       "    </tr>\n",
       "    <tr>\n",
       "      <th>4</th>\n",
       "      <td>22</td>\n",
       "      <td>1563</td>\n",
       "    </tr>\n",
       "    <tr>\n",
       "      <th>...</th>\n",
       "      <td>...</td>\n",
       "      <td>...</td>\n",
       "    </tr>\n",
       "    <tr>\n",
       "      <th>67</th>\n",
       "      <td>86</td>\n",
       "      <td>2</td>\n",
       "    </tr>\n",
       "    <tr>\n",
       "      <th>68</th>\n",
       "      <td>88</td>\n",
       "      <td>1</td>\n",
       "    </tr>\n",
       "    <tr>\n",
       "      <th>69</th>\n",
       "      <td>92</td>\n",
       "      <td>1</td>\n",
       "    </tr>\n",
       "    <tr>\n",
       "      <th>70</th>\n",
       "      <td>94</td>\n",
       "      <td>1</td>\n",
       "    </tr>\n",
       "    <tr>\n",
       "      <th>71</th>\n",
       "      <td>121</td>\n",
       "      <td>1</td>\n",
       "    </tr>\n",
       "  </tbody>\n",
       "</table>\n",
       "<p>72 rows × 2 columns</p>\n",
       "</div>"
      ],
      "text/plain": [
       "    AGE  Numbers\n",
       "0    18     1222\n",
       "1    19     1362\n",
       "2    20     1510\n",
       "3    21     1554\n",
       "4    22     1563\n",
       "..  ...      ...\n",
       "67   86        2\n",
       "68   88        1\n",
       "69   92        1\n",
       "70   94        1\n",
       "71  121        1\n",
       "\n",
       "[72 rows x 2 columns]"
      ]
     },
     "execution_count": 12,
     "metadata": {},
     "output_type": "execute_result"
    }
   ],
   "source": [
    "df_age = df.groupby('AGE').size().reset_index(name = \"Numbers\") #classifying data by age\n",
    "df_age"
   ]
  },
  {
   "cell_type": "code",
   "execution_count": 13,
   "id": "2b9fc002-6b9e-4039-8130-45a4f45c62a9",
   "metadata": {},
   "outputs": [
    {
     "data": {
      "text/plain": [
       "<seaborn.axisgrid.FacetGrid at 0x1a985ffc200>"
      ]
     },
     "execution_count": 13,
     "metadata": {},
     "output_type": "execute_result"
    },
    {
     "data": {
      "image/png": "[encoded data removed]",
      "text/plain": [
       "<Figure size 500x500 with 1 Axes>"
      ]
     },
     "metadata": {},
     "output_type": "display_data"
    }
   ],
   "source": [
    "sns.displot(df['AGE'], kde = True, bins = 8)"
   ]
  },
  {
   "cell_type": "code",
   "execution_count": 14,
   "id": "30776695-45e1-492a-a0e4-3acc63972d74",
   "metadata": {},
   "outputs": [
    {
     "name": "stdout",
     "output_type": "stream",
     "text": [
      "18 121\n"
     ]
    }
   ],
   "source": [
    "df_min = df['AGE'].min()\n",
    "df_max = df['AGE'].max()\n",
    "print(df_min, df_max)"
   ]
  },
  {
   "cell_type": "markdown",
   "id": "e1787923-22bd-4ad6-bebe-22e52b5cd9f9",
   "metadata": {},
   "source": [
    "#### DETECTING ANOMALIES"
   ]
  },
  {
   "cell_type": "markdown",
   "id": "b58aad0d-0ede-48af-8f10-e20da788ee5c",
   "metadata": {},
   "source": [
    "THE EASIEST WAY TO DETECT ANOMALIES IS USING WHISKERS OR BOXPLOTS"
   ]
  },
  {
   "cell_type": "code",
   "execution_count": 17,
   "id": "3dc9c224-230d-41b7-9c73-3d4ac56f3f90",
   "metadata": {},
   "outputs": [
    {
     "data": {
      "text/plain": [
       "<Axes: ylabel='AGE'>"
      ]
     },
     "execution_count": 17,
     "metadata": {},
     "output_type": "execute_result"
    },
    {
     "data": {
      "image/png": "[encoded data removed]",
      "text/plain": [
       "<Figure size 640x480 with 1 Axes>"
      ]
     },
     "metadata": {},
     "output_type": "display_data"
    }
   ],
   "source": [
    "sns.boxplot(df['AGE'])"
   ]
  },
  {
   "cell_type": "markdown",
   "id": "ed978c7f-7ecf-467a-b82d-62bf2eb38868",
   "metadata": {},
   "source": [
    "Calculate the upper and the lower limits"
   ]
  },
  {
   "cell_type": "code",
   "execution_count": 19,
   "id": "b1d76bf3-f445-4bdb-b8b9-09aa404bc20d",
   "metadata": {},
   "outputs": [],
   "source": [
    "Q1 = df['AGE'].quantile(0.25)\n",
    "Q3 = df['AGE'].quantile(0.75)\n",
    "IQR = Q3 - Q1\n",
    "lower = Q1 - 1.5*IQR\n",
    "upper = Q3 + 1.5*IQR"
   ]
  },
  {
   "cell_type": "code",
   "execution_count": 20,
   "id": "0720df87-d0e3-485e-b7e3-de0b6a256fe9",
   "metadata": {},
   "outputs": [
    {
     "data": {
      "text/plain": [
       "16.0"
      ]
     },
     "execution_count": 20,
     "metadata": {},
     "output_type": "execute_result"
    }
   ],
   "source": [
    "IQR"
   ]
  },
  {
   "cell_type": "markdown",
   "id": "d2120b1b-37c9-41b4-b4a9-174131817a39",
   "metadata": {},
   "source": [
    "### ELIMINATE OUTLIERS"
   ]
  },
  {
   "cell_type": "code",
   "execution_count": 22,
   "id": "b374561a-a72a-4c89-9c6e-6b5ac6471136",
   "metadata": {},
   "outputs": [
    {
     "name": "stdout",
     "output_type": "stream",
     "text": [
      "Removed 53588 outliers\n"
     ]
    }
   ],
   "source": [
    "df_no_outliers = df[(df['AGE'] >= lower) & (df['AGE'] >= upper)]\n",
    "print(f\"Removed {df.shape[0] - df_no_outliers.shape[0]} outliers\")\n",
    "df_clean = df_no_outliers.copy()"
   ]
  },
  {
   "cell_type": "code",
   "execution_count": null,
   "id": "9a525b7c-b2e8-4385-bd58-f19f589450bb",
   "metadata": {},
   "outputs": [],
   "source": []
  }
 ],
 "metadata": {
  "kernelspec": {
   "display_name": "Python 3 (ipykernel)",
   "language": "python",
   "name": "python3"
  },
  "language_info": {
   "codemirror_mode": {
    "name": "ipython",
    "version": 3
   },
   "file_extension": ".py",
   "mimetype": "text/x-python",
   "name": "python",
   "nbconvert_exporter": "python",
   "pygments_lexer": "ipython3",
   "version": "3.12.4"
  }
 },
 "nbformat": 4,
 "nbformat_minor": 5
}
